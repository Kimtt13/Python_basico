{
 "cells": [
  {
   "cell_type": "markdown",
   "id": "122519d1",
   "metadata": {},
   "source": [
    "# Kim Ngan Tran Thi"
   ]
  },
  {
   "cell_type": "markdown",
   "id": "37f1ca45",
   "metadata": {},
   "source": [
    "## Python Básico"
   ]
  },
  {
   "cell_type": "markdown",
   "id": "424b1d47",
   "metadata": {},
   "source": [
    "### 5. Listas y diccionarios"
   ]
  },
  {
   "cell_type": "markdown",
   "id": "bceeb91a",
   "metadata": {},
   "source": [
    "#### 5.1. Programa que pide un numero de palabras a insertar (mínimo 7),se introduce esas palabras creando con ellas una lista que después se muestra"
   ]
  },
  {
   "cell_type": "code",
   "execution_count": 17,
   "id": "8a17ee94",
   "metadata": {},
   "outputs": [
    {
     "name": "stdout",
     "output_type": "stream",
     "text": [
      "Introduce una frase (mínimo 7 palabras): cero uno dos tres cuatro cinco seis siete\n",
      "['cero', 'uno', 'dos', 'tres', 'cuatro', 'cinco', 'seis', 'siete']\n"
     ]
    }
   ],
   "source": [
    "lista=[]\n",
    "a = input(\"Introduce una frase (mínimo 7 palabras): \")\n",
    "if(len(a)) <7:\n",
    "    a = input(\"Introduce una frase (mínimo 7 palabras)\")\n",
    "else: \n",
    "    lista = (a.split())\n",
    "    print(lista)"
   ]
  },
  {
   "cell_type": "markdown",
   "id": "f13c30ed",
   "metadata": {},
   "source": [
    "##### 5.2. Se pide un numero entre 1 y 7, más una palabra. El número introducido indica la posición en la lista anterior cuyo valor será sustituido por la palabra introducida."
   ]
  },
  {
   "cell_type": "code",
   "execution_count": 18,
   "id": "a81dc557",
   "metadata": {},
   "outputs": [
    {
     "name": "stdout",
     "output_type": "stream",
     "text": [
      "Introduce la palabra que quiere insertar: palabra\n",
      "En qué posición quiere introducir la palabra: 4\n",
      "['cero', 'uno', 'dos', 'tres', 'palabra', 'cuatro', 'cinco', 'seis', 'siete']\n"
     ]
    }
   ],
   "source": [
    "palabra=input(\"Introduce la palabra que quiere insertar: \")\n",
    "posicion=int(input(\"En qué posición quiere introducir la palabra: \"))\n",
    "if posicion<1 or posicion>7:\n",
    "    numero=int(input(\"Tiene que estar entre 1 y 7. En qué posición quiere introducir la palabra: \"))\n",
    "else:\n",
    "    lista.insert(posicion,palabra)\n",
    "    print(lista)\n"
   ]
  },
  {
   "cell_type": "markdown",
   "id": "6833287f",
   "metadata": {},
   "source": [
    "##### 5.3. Se pide la posición de un elemento en la lista y una vez introducida se elimina dicha palabra"
   ]
  },
  {
   "cell_type": "code",
   "execution_count": null,
   "id": "c5788afd",
   "metadata": {},
   "outputs": [],
   "source": [
    "print(f\"Lista: {lista}\")\n",
    "eliminar = int(input(\"De la siguiente lista en qué posición está la palabra que quiere eliminar\"))\n",
    "if eliminar >= len(lista):\n",
    "    eliminar = int(input(\"Posición errónea, inténtalo de nuevo\"))\n",
    "else:\n",
    "    del lista[posicion]\n",
    "    print(lista)"
   ]
  },
  {
   "cell_type": "markdown",
   "id": "fe4b6675",
   "metadata": {},
   "source": [
    "##### 5.4. Crea un diccionario de 10 palabras ingles-español y realiza 3 consultas a este diccionario"
   ]
  },
  {
   "cell_type": "code",
   "execution_count": 1,
   "id": "20773d77",
   "metadata": {},
   "outputs": [],
   "source": [
    "diccionario= {\"apple\":\"manzana\",\"bear\":\"oso\",\"cat\":\"gato\",\"date\":\"fecha\",\\\n",
    "              \"elephant\":\"elefante\",\"foreign\":\"extranjero\",\"garage\":\"garaje\",\\\n",
    "              \"hello\":\"hola\",\"intelligence\":\"inteligencia\",\"joke\":\"broma\"}"
   ]
  },
  {
   "cell_type": "code",
   "execution_count": 3,
   "id": "71d6212d",
   "metadata": {},
   "outputs": [
    {
     "name": "stdout",
     "output_type": "stream",
     "text": [
      "¿Qué quieres traducir? \n",
      " Consulta: No existe\n",
      "Resultados no encontrados\n",
      "¿Qué quieres traducir? \n",
      " Consulta: apple\n",
      "traducción:  manzana\n",
      "¿Qué quieres traducir? \n",
      " Consulta: bear\n",
      "traducción:  oso\n",
      "Ya no se permiten más consultas, adiós.\n"
     ]
    }
   ],
   "source": [
    "for i in range (3):\n",
    "    consulta = input(\"¿Qué quieres traducir? \\n Consulta: \")\n",
    "    if consulta in diccionario:\n",
    "        print(\"traducción: \", diccionario[consulta])\n",
    "    else: \n",
    "        print(\"Resultados no encontrados\")\n",
    "print(\"Ya no se permiten más consultas, adiós.\")"
   ]
  },
  {
   "cell_type": "markdown",
   "id": "cdcab090",
   "metadata": {},
   "source": [
    "##### 5.5. Añade 4 palabras mas al diccionario"
   ]
  },
  {
   "cell_type": "code",
   "execution_count": 4,
   "id": "8fc97310",
   "metadata": {},
   "outputs": [
    {
     "name": "stdout",
     "output_type": "stream",
     "text": [
      "Puede añadir 3 palabras al diccionario\n",
      "1:\n",
      "Palabra en inglés: one\n",
      "Significa: uno\n",
      "2:\n",
      "Palabra en inglés: two\n",
      "Significa: dos\n",
      "3:\n",
      "Palabra en inglés: three\n",
      "Significa: tres\n",
      "{'apple': 'manzana', 'bear': 'oso', 'cat': 'gato', 'date': 'fecha', 'elephant': 'elefante', 'foreign': 'extranjero', 'garage': 'garaje', 'hello': 'hola', 'intelligence': 'inteligencia', 'joke': 'broma', 'one': 'uno', 'two': 'dos', 'three': 'tres', 'four': 'cuatro'}\n"
     ]
    }
   ],
   "source": [
    "print(\"Puede añadir 3 palabras al diccionario\")\n",
    "contador = 1\n",
    "for i in range(3): \n",
    "    print(f'{contador}:')\n",
    "    ingles=input('Palabra en inglés: ')\n",
    "    español=input('Significa: ')\n",
    "    diccionario.update({ingles : español})\n",
    "    contador+=1\n",
    "print(diccionario)"
   ]
  },
  {
   "cell_type": "markdown",
   "id": "34ba9bb1",
   "metadata": {},
   "source": [
    "### 6. For y funciones"
   ]
  },
  {
   "cell_type": "markdown",
   "id": "79bf6588",
   "metadata": {},
   "source": [
    "##### 6.1. Introduce una lista de 10 palabras y muéstralas de la ultima a la primera"
   ]
  },
  {
   "cell_type": "code",
   "execution_count": 5,
   "id": "68f088fc",
   "metadata": {},
   "outputs": [
    {
     "name": "stdout",
     "output_type": "stream",
     "text": [
      "diez\n",
      "nueve\n",
      "ocho\n",
      "siete\n",
      "seis\n",
      "cinco\n",
      "cuatro\n",
      "tres\n",
      "dos\n",
      "uno\n"
     ]
    }
   ],
   "source": [
    "lista=[\"uno\",\"dos\",\"tres\",\"cuatro\",\"cinco\",\"seis\",\"siete\",\"ocho\",\"nueve\",\"diez\"]\n",
    "\n",
    "posicion=len(lista)-1\n",
    "\n",
    "for i in lista:\n",
    "    print(lista[posicion])\n",
    "    posicion=posicion-1"
   ]
  },
  {
   "cell_type": "markdown",
   "id": "ba2af099",
   "metadata": {},
   "source": []
  },
  {
   "cell_type": "markdown",
   "id": "a8d8d5e6",
   "metadata": {},
   "source": [
    "##### 6.2. Mediante funciones realiza un programa que simule una calculadora"
   ]
  },
  {
   "cell_type": "code",
   "execution_count": 9,
   "id": "19dc08c7",
   "metadata": {},
   "outputs": [
    {
     "name": "stdout",
     "output_type": "stream",
     "text": [
      " Elija una opción:\n",
      " 1. Sumar\n",
      " 2. Restar\n",
      " 3. Multiplicar\n",
      " 4. Dividir \n",
      "Introduce la operación que desea: 4\n",
      " - 1er número: 4\n",
      " - 2o número: 4\n",
      "4 / 4 = 1.0\n"
     ]
    }
   ],
   "source": [
    "def Menu():\n",
    "    print(\" Elija una opción:\\n 1. Sumar\\n 2. Restar\\n 3. Multiplicar\\n 4. Dividir \")\n",
    "\n",
    "def Suma(x,y):\n",
    "    return(x+y)\n",
    "\n",
    "def Resta(x, y):\n",
    "    return(x-y)\n",
    "\n",
    "def Multiplicar(x, y):\n",
    "    return(x*y)\n",
    "\n",
    "def Dividir(x, y):\n",
    "    return(x/y)\n",
    "\n",
    "Menu()\n",
    "operacion=int(input(\"Introduce la operación que desea: \"))\n",
    "x=int(input(\" - 1er número: \"))\n",
    "y=int(input(\" - 2o número: \"))\n",
    "\n",
    "if operacion==1:\n",
    "    print(x,\"+\",y,\"=\",Suma(x,y))\n",
    "if operacion==2:\n",
    "    print(x,\"-\",y,\"=\",Resta(x,y))\n",
    "if operacion==3:\n",
    "    print(x,\"*\",y,\"=\",Multiplicar(x,y))\n",
    "if operacion==4:\n",
    "    print(x,\"/\",y,\"=\",Dividir(x,y))"
   ]
  },
  {
   "cell_type": "markdown",
   "id": "a14930e2",
   "metadata": {},
   "source": [
    "##### 6.3. Introduce 10 números y guardaros en una lista, muéstralos mediante for."
   ]
  },
  {
   "cell_type": "code",
   "execution_count": 13,
   "id": "948efc55",
   "metadata": {},
   "outputs": [
    {
     "name": "stdout",
     "output_type": "stream",
     "text": [
      "Puede introducir 5 números: \n",
      "1. 1\n",
      "2. 5\n",
      "3. 3\n",
      "4. 2\n",
      "5. 9\n",
      "[1, 5, 3, 2, 9]\n"
     ]
    }
   ],
   "source": [
    "contador = 1\n",
    "lista = []\n",
    "print(\"Puede introducir 5 números: \")\n",
    "for i in range(5):\n",
    "    numero = int(input(f'{contador}. '))\n",
    "    contador +=1\n",
    "    lista.append(numero)\n",
    "print(lista)"
   ]
  },
  {
   "cell_type": "markdown",
   "id": "21bade6a",
   "metadata": {},
   "source": [
    "#### 6.4. Ordena la lista anterior y muéstrala"
   ]
  },
  {
   "cell_type": "code",
   "execution_count": 14,
   "id": "bbadc07c",
   "metadata": {},
   "outputs": [
    {
     "name": "stdout",
     "output_type": "stream",
     "text": [
      "[1, 2, 3, 5, 9]\n"
     ]
    }
   ],
   "source": [
    "listaOrdenada=[]\n",
    "for i in range(len(lista)):\n",
    "    minimo=(min(lista))\n",
    "    n=lista.index(minimo)\n",
    "    listaOrdenada.append(lista[n])\n",
    "    del(lista[n])\n",
    "print(listaOrdenada)"
   ]
  }
 ],
 "metadata": {
  "kernelspec": {
   "display_name": "Python 3 (ipykernel)",
   "language": "python",
   "name": "python3"
  },
  "language_info": {
   "codemirror_mode": {
    "name": "ipython",
    "version": 3
   },
   "file_extension": ".py",
   "mimetype": "text/x-python",
   "name": "python",
   "nbconvert_exporter": "python",
   "pygments_lexer": "ipython3",
   "version": "3.9.13"
  }
 },
 "nbformat": 4,
 "nbformat_minor": 5
}
