{
 "cells": [
  {
   "cell_type": "markdown",
   "id": "36ff9a31",
   "metadata": {},
   "source": [
    "# Kim Ngan Tran Thi\n",
    "## Python Básico"
   ]
  },
  {
   "cell_type": "markdown",
   "id": "b93aeecb",
   "metadata": {},
   "source": [
    "### 1. Variables\n",
    "##### 1.1.Crea 2 variables, Variable1 con valor numerico=5 y Variable2 con valor texto=\"Hola\""
   ]
  },
  {
   "cell_type": "code",
   "execution_count": 1,
   "id": "089dfbd3",
   "metadata": {},
   "outputs": [],
   "source": [
    "Variable1= 5\n",
    "Variable2= \"Hola\""
   ]
  },
  {
   "cell_type": "markdown",
   "id": "e3d4e25c",
   "metadata": {},
   "source": [
    "##### 1.2. Crea una variable llamad Valor1 que contenga el número 5 y una variable llamada Valor2 que contenga el texto “Comiendo a programar”"
   ]
  },
  {
   "cell_type": "code",
   "execution_count": 2,
   "id": "b7b6ac2d",
   "metadata": {},
   "outputs": [],
   "source": [
    "Valor1 = 5\n",
    "Valor2 = \"Comienzo a programar\""
   ]
  },
  {
   "cell_type": "markdown",
   "id": "d493cb22",
   "metadata": {},
   "source": [
    "### 2. Conversión de tipo\n",
    "##### 2.1. Crea 2 variables, Variable1 y Variable2 que reciben valor por teclado. Despues muestra su multiplicación"
   ]
  },
  {
   "cell_type": "code",
   "execution_count": 3,
   "id": "468ca49c",
   "metadata": {
    "scrolled": true
   },
   "outputs": [
    {
     "name": "stdout",
     "output_type": "stream",
     "text": [
      "Inserta un número: 2\n",
      "Inserta otro número: 3\n",
      "El producto de los números introducidos es:  6\n"
     ]
    }
   ],
   "source": [
    "print(\"Inserta un número: \", end=\"\")\n",
    "Variable1=int(input())\n",
    "print(\"Inserta otro número: \", end=\"\")\n",
    "Variable2=int(input())\n",
    "resultado=Variable1*Variable2\n",
    "print(\"El producto de los números introducidos es: \", resultado)"
   ]
  },
  {
   "cell_type": "markdown",
   "id": "27f9454f",
   "metadata": {},
   "source": [
    "##### 2.2. Pide tu nombre por teclado y muestra un mensaje personalizado deseándote un buen día"
   ]
  },
  {
   "cell_type": "code",
   "execution_count": 4,
   "id": "caa972cb",
   "metadata": {},
   "outputs": [
    {
     "name": "stdout",
     "output_type": "stream",
     "text": [
      "Inserta tu nombre: Kim\n",
      "Que tengas un buen día, Kim\n"
     ]
    }
   ],
   "source": [
    "print(\"Inserta tu nombre: \", end=\"\")\n",
    "Nombre=str(input())\n",
    "print(\"Que tengas un buen día,\", Nombre)"
   ]
  },
  {
   "cell_type": "markdown",
   "id": "ba471131",
   "metadata": {},
   "source": [
    "### 3. Operadores lógicos\n",
    "##### 3.1. Pide 3 variables: Variable1, Variable2 y Variable3. Introduce en ellas por teclado valores numéricos. Si son iguales mostrara True, False en caso contrario (Sin utilizar IF). "
   ]
  },
  {
   "cell_type": "code",
   "execution_count": 5,
   "id": "d63dccb8",
   "metadata": {
    "scrolled": true
   },
   "outputs": [
    {
     "name": "stdout",
     "output_type": "stream",
     "text": [
      "Interta el primer número: 2\n",
      "Inserta el segundo número: 2\n",
      "Inserta el tercer número: 3\n"
     ]
    },
    {
     "data": {
      "text/plain": [
       "False"
      ]
     },
     "execution_count": 5,
     "metadata": {},
     "output_type": "execute_result"
    }
   ],
   "source": [
    "print(\"Interta el primer número: \",end=\"\")\n",
    "Variable1= int(input())\n",
    "print(\"Inserta el segundo número: \",end=\"\")\n",
    "Variable2=int(input())\n",
    "print(\"Inserta el tercer número: \",end=\"\")\n",
    "Variable3=int(input())\n",
    "\n",
    "(Variable1==Variable2 and Variable2==Variable3)\n"
   ]
  },
  {
   "cell_type": "markdown",
   "id": "fb4d8fef",
   "metadata": {},
   "source": [
    "##### 3.2. Pide 3 variables: Variable1, Variable2 y Variable3. Introduce en ellas por teclado valores numéricos. Si alguna es mayor de 100 mostrar True, False en caso contrario (Sin utilizar IF)."
   ]
  },
  {
   "cell_type": "code",
   "execution_count": 6,
   "id": "97f9a714",
   "metadata": {},
   "outputs": [
    {
     "name": "stdout",
     "output_type": "stream",
     "text": [
      "Interta el primer número: 1\n",
      "Inserta el segundo número: 2\n",
      "Inserta el tercer número: 200\n"
     ]
    },
    {
     "data": {
      "text/plain": [
       "True"
      ]
     },
     "execution_count": 6,
     "metadata": {},
     "output_type": "execute_result"
    }
   ],
   "source": [
    "print(\"Interta el primer número: \",end=\"\")\n",
    "Variable1=int(input())\n",
    "print(\"Inserta el segundo número: \",end=\"\")\n",
    "Variable2=int(input())\n",
    "print(\"Inserta el tercer número: \",end=\"\")\n",
    "Variable3=int(input())\n",
    "\n",
    "(Variable1>100 or Variable2>100 or Variable3>100)"
   ]
  },
  {
   "cell_type": "markdown",
   "id": "c1805c08",
   "metadata": {},
   "source": [
    "### 4. Estructuras de control."
   ]
  },
  {
   "cell_type": "markdown",
   "id": "eab17754",
   "metadata": {},
   "source": [
    "#### 4.1. Muestra los números del 1-10"
   ]
  },
  {
   "cell_type": "code",
   "execution_count": 7,
   "id": "93073c56",
   "metadata": {},
   "outputs": [
    {
     "name": "stdout",
     "output_type": "stream",
     "text": [
      "1\n",
      "2\n",
      "3\n",
      "4\n",
      "5\n",
      "6\n",
      "7\n",
      "8\n",
      "9\n",
      "10\n"
     ]
    }
   ],
   "source": [
    "contador =1\n",
    "while contador < 11:\n",
    "    print(contador)\n",
    "    contador=contador+1"
   ]
  },
  {
   "cell_type": "markdown",
   "id": "ac4563fc",
   "metadata": {},
   "source": [
    "##### 4.2. Introducido un número por teclado, nos dirá si es positivo."
   ]
  },
  {
   "cell_type": "code",
   "execution_count": 8,
   "id": "9010083e",
   "metadata": {},
   "outputs": [
    {
     "name": "stdout",
     "output_type": "stream",
     "text": [
      "Introduzca un número: 5\n",
      "El número es positivo\n"
     ]
    }
   ],
   "source": [
    "print(\"Introduzca un número: \",end=\"\")\n",
    "Número=int(input())\n",
    "if Número>0: print (\"El número es positivo\")\n",
    "else: print(\"El número es negativo.\")"
   ]
  },
  {
   "cell_type": "markdown",
   "id": "d24ecc46",
   "metadata": {},
   "source": [
    "##### 4.3. Introducidos 3 números por teclado nos dirá cuál es el mayor."
   ]
  },
  {
   "cell_type": "code",
   "execution_count": 9,
   "id": "4fdc74f4",
   "metadata": {},
   "outputs": [
    {
     "name": "stdout",
     "output_type": "stream",
     "text": [
      "Interta el primer número: 2\n",
      "Interta el segundo número: 3\n",
      "Interta el tercer número: 4\n",
      "El número más grande es:  4\n"
     ]
    }
   ],
   "source": [
    "a = int(input(\"Interta el primer número: \"))\n",
    "b = int(input(\"Interta el segundo número: \"))\n",
    "c = int(input(\"Interta el tercer número: \"))\n",
    "if a>b and a>c: \n",
    "    print(\"El número más grande es: \",a)\n",
    "if b>a and b>c: \n",
    "    print(\"El número más grande es: \",b)\n",
    "else: \n",
    "    print(\"El número más grande es: \",c)"
   ]
  },
  {
   "cell_type": "markdown",
   "id": "985e8b36",
   "metadata": {},
   "source": [
    "##### 4.4. Pedir un numero por teclado hasta introducir un numero entre 1000 y 1500"
   ]
  },
  {
   "cell_type": "code",
   "execution_count": 10,
   "id": "aa746250",
   "metadata": {},
   "outputs": [
    {
     "name": "stdout",
     "output_type": "stream",
     "text": [
      "Introduce un número: 1\n",
      "Número incorrecto, prueba otra vez: 1000\n",
      "Número correcto\n"
     ]
    }
   ],
   "source": [
    "a=int(input(\"Introduce un número: \"))\n",
    "while a<1000 or a>1500:\n",
    "    a=int(input(\"Número incorrecto, prueba otra vez: \"))\n",
    "print(\"Número correcto\")"
   ]
  },
  {
   "cell_type": "markdown",
   "id": "4ee872ec",
   "metadata": {},
   "source": [
    "##### 4.5. Introducido un número entre 1 y 10 mostrar su tabla de multiplicar"
   ]
  },
  {
   "cell_type": "code",
   "execution_count": 11,
   "id": "91e4ff89",
   "metadata": {},
   "outputs": [
    {
     "name": "stdout",
     "output_type": "stream",
     "text": [
      "Introduce un número entre 1 y 10: 0\n",
      "Introduce un número entre 1 y 10: 2\n",
      "0  x  2  =  0\n",
      "1  x  2  =  2\n",
      "2  x  2  =  4\n",
      "3  x  2  =  6\n",
      "4  x  2  =  8\n",
      "5  x  2  =  10\n",
      "6  x  2  =  12\n",
      "7  x  2  =  14\n",
      "8  x  2  =  16\n",
      "9  x  2  =  18\n",
      "10  x  2  =  20\n"
     ]
    }
   ],
   "source": [
    "a=int(input(\"Introduce un número entre 1 y 10: \"))\n",
    "contador=1\n",
    "while a<1 or a >10:\n",
    "    a=int(input(\"Introduce un número entre 1 y 10: \"))\n",
    "\n",
    "for contador in range (11):\n",
    "        print(contador,\" x \", a, \" = \", a*contador)"
   ]
  },
  {
   "cell_type": "markdown",
   "id": "09277121",
   "metadata": {},
   "source": [
    "#### 4.6. Leer 2 números por teclado y mostrar el menú:\n",
    "Sumar, Restar, Multiplicar, Dividir. Después, leer por teclado un número enter 1 y 4. Según la opción elegida, mostrar el resultado de la operación con los 2 números introducidos."
   ]
  },
  {
   "cell_type": "code",
   "execution_count": 12,
   "id": "91dabda1",
   "metadata": {},
   "outputs": [
    {
     "name": "stdout",
     "output_type": "stream",
     "text": [
      "Interta el primer número: 2\n",
      "Inserta el segundo número: 3\n",
      "Elige qué operación desea hacer: \n",
      "1. Suma \n",
      "2. Resta \n",
      "3. Multiplicación \n",
      "4. División. \n",
      "Escriba el número de la operación: 4\n",
      "2  /  3  =  0.6666666666666666\n"
     ]
    }
   ],
   "source": [
    "a=int(input(\"Interta el primer número: \"))\n",
    "b=int(input(\"Inserta el segundo número: \"))\n",
    "c=int(input(\"Elige qué operación desea hacer: \\n1. Suma \\n2. Resta \\n3. Multiplicación \\n4. División. \\nEscriba el número de la operación: \"))\n",
    "if c==1:\n",
    "    print(a,\" + \", b, \" = \", a+b)\n",
    "if c==2:\n",
    "    print(a,\" - \", b, \" = \", a-b)\n",
    "if c==3:\n",
    "    print(a,\" * \", b, \" = \", a*b)\n",
    "if c==4:\n",
    "    print(a,\" / \", b, \" = \", a/b)\n",
    "\n",
    "\n"
   ]
  },
  {
   "cell_type": "markdown",
   "id": "543298ca",
   "metadata": {},
   "source": [
    "##### 4.7. Dada una nota numérica sin decimales entre 1 y 10 introducida por teclado mostrar un mensaje de texto indicando la nota según este baremo:\n",
    "- 1-4 Suspenso\n",
    "- 5-6 Bien\n",
    "- 7-8 Notable\n",
    "- 9-10 Sobresaliente"
   ]
  },
  {
   "cell_type": "code",
   "execution_count": 13,
   "id": "4ccecf24",
   "metadata": {},
   "outputs": [
    {
     "name": "stdout",
     "output_type": "stream",
     "text": [
      "Interta tu nota: 10\n",
      "Sobresaliente\n"
     ]
    }
   ],
   "source": [
    "a=int(input(\"Interta tu nota: \"))\n",
    "if a>=1 and a<=4:\n",
    "    print(\"Suspenso\")\n",
    "if a>=5 and a<=6:\n",
    "    print(\"Bien\")\n",
    "if a>=7 and a<=8:\n",
    "    print(\"Notable\")\n",
    "if a>=9 and a<=10:\n",
    "    print(\"Sobresaliente\")"
   ]
  },
  {
   "cell_type": "markdown",
   "id": "cd808061",
   "metadata": {},
   "source": [
    "##### 4.8. Provocar un bucle infinito que muestre la palabra “ERROR”"
   ]
  },
  {
   "cell_type": "code",
   "execution_count": 14,
   "id": "deba3450",
   "metadata": {},
   "outputs": [],
   "source": [
    "#Para que funcione el nucle, descomenta \"contador=1\"\n",
    "# contador=1\n",
    "while contador==1:\n",
    "    print(\"ERROR\")"
   ]
  },
  {
   "cell_type": "markdown",
   "id": "285da618",
   "metadata": {},
   "source": [
    "##### 4.9. Queremos hacer un juego para 2 jugadores: el primero introduce un número y el segundo debe adivinarlo. El número a adivinar debe estar entre 1 y 1000. Se permite sólo 10 intentos para intentar adivinarlo y si no lo acierta el programa le informará sobre si el número buscado es menor o mayor"
   ]
  },
  {
   "cell_type": "code",
   "execution_count": 15,
   "id": "691a771d",
   "metadata": {},
   "outputs": [
    {
     "name": "stdout",
     "output_type": "stream",
     "text": [
      "1er jugador, inserte un número entre 1 y 1000: ········\n",
      "2o jugador, inserte un número entre 1 y 1000: 1\n",
      "El número introducido es menor. Te quedan 9 intentos. Inténtalo de nuevo: \n",
      "1000\n",
      "El número introducido es mayor. Te quedan 8 intentos. Inténtalo de nuevo: \n",
      "500\n",
      "Has acertado. El número correcto es: 500\n"
     ]
    }
   ],
   "source": [
    "import getpass\n",
    "a=int(getpass.getpass(\"1er jugador, inserte un número entre 1 y 1000: \"))\n",
    "while a<1 or a>1000:\n",
    "    a=int(getpass.getpass(\"Tiene que ser entre 1 y 1000: \"))\n",
    "    \n",
    "if a>=1 and a<=1000:\n",
    "    intentos=1\n",
    "    b=int(input(\"2o jugador, inserte un número entre 1 y 1000: \"))\n",
    "    while intentos<10:\n",
    "        if b>a:\n",
    "            print(f'El número introducido es mayor. Te quedan {10-intentos} intentos. Inténtalo de nuevo: ')\n",
    "            b=int(input())\n",
    "            intentos+=1\n",
    "        if b<a:\n",
    "            print(f'El número introducido es menor. Te quedan {10-intentos} intentos. Inténtalo de nuevo: ')\n",
    "            b=int(input())\n",
    "            intentos+=1\n",
    "        if b==a:\n",
    "            print(f\"Has acertado. El número correcto es: {a}\")\n",
    "            break\n",
    "    else:\n",
    "        print(\"Has superado el número de intentos\")"
   ]
  }
 ],
 "metadata": {
  "kernelspec": {
   "display_name": "Python 3 (ipykernel)",
   "language": "python",
   "name": "python3"
  },
  "language_info": {
   "codemirror_mode": {
    "name": "ipython",
    "version": 3
   },
   "file_extension": ".py",
   "mimetype": "text/x-python",
   "name": "python",
   "nbconvert_exporter": "python",
   "pygments_lexer": "ipython3",
   "version": "3.9.13"
  }
 },
 "nbformat": 4,
 "nbformat_minor": 5
}
